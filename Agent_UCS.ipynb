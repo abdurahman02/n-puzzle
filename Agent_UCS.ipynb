{
 "metadata": {
  "language_info": {
   "codemirror_mode": {
    "name": "ipython",
    "version": 3
   },
   "file_extension": ".py",
   "mimetype": "text/x-python",
   "name": "python",
   "nbconvert_exporter": "python",
   "pygments_lexer": "ipython3",
   "version": "3.8.3-final"
  },
  "orig_nbformat": 2,
  "kernelspec": {
   "name": "python3",
   "display_name": "Python 3",
   "language": "python"
  }
 },
 "nbformat": 4,
 "nbformat_minor": 2,
 "cells": [
  {
   "cell_type": "code",
   "execution_count": 21,
   "metadata": {},
   "outputs": [
    {
     "output_type": "stream",
     "name": "stdout",
     "text": [
      "[['2' '0']\n ['1' '3']]\n[['7' '2' '4']\n ['5' '0' '6']\n ['8' '3' '1']]\n"
     ]
    }
   ],
   "source": [
    "import heapq\n",
    "from heapq import heappush, heappop\n",
    "import csv\n",
    "import numpy as np\n",
    "import math\n",
    "with open(\"input.txt\") as file:\n",
    "    file = csv.reader(file, delimiter=',')\n",
    "    \n",
    "    inp1 = next(file)\n",
    "    i1 = np.array(inp1)\n",
    "    \n",
    "    inp2 = next(file)\n",
    "    i2 = np.array(inp2)\n",
    "    \n",
    "    inp3 = next(file)\n",
    "    i3 = np.array(inp3)\n",
    "    \n",
    "    inp4 = next(file)\n",
    "    i4 = np.array(inp4)\n",
    "    \n",
    "    inp5 = next(file)\n",
    "    i5 = np.array(inp5)\n",
    "\n",
    "\n",
    "    input01 = i1.reshape(int(math.sqrt(len(i1))), int(math.sqrt(len(i1))))\n",
    "    input02 = i2.reshape(int(math.sqrt(len(i2))), int(math.sqrt(len(i2))))\n",
    "    input03 = i3.reshape(int(math.sqrt(len(i3))), int(math.sqrt(len(i3))))\n",
    "    input04 = i4.reshape(int(math.sqrt(len(i4))), int(math.sqrt(len(i4))))\n",
    "    input05 = i5.reshape(int(math.sqrt(len(i5))), int(math.sqrt(len(i5))))\n",
    "\n",
    "    \n",
    "print(input01)\n",
    "print(input02)\n",
    "    "
   ]
  },
  {
   "cell_type": "code",
   "execution_count": 22,
   "metadata": {},
   "outputs": [],
   "source": [
    "class node:\n",
    "    def __init__( self, state, parent, fn = 0, hn = 0, count = 0, imgsOfParent = [], mov= \"\", path = []):\n",
    "        self.state = state\n",
    "        self.imgOfState = self.getImageOfState(state)\n",
    "        self.parent = parent\n",
    "        if(len(parent) != 0):\n",
    "            imgsOfParent.append(self.getImageOfState(parent))\n",
    "        self.imgsOfParent = imgsOfParent\n",
    "        self.mov = mov\n",
    "        path.append(mov)\n",
    "        self.path = path\n",
    "        self.fn = len(self.imgsOfParent) + 1\n",
    "        self.hn = hn\n",
    "        self.count = count\n",
    "    def getImageOfState(self, npArr):\n",
    "        i = 0\n",
    "        image =0\n",
    "        state = npArr.flatten()\n",
    "        while(i < len(state)):\n",
    "            image += (i+1)*(i+1)*int(state[i])\n",
    "            i+=1\n",
    "        return image\n",
    "\n",
    "    \n",
    "    def setFn_UCS(self):\n",
    "        self.fn = len(self.imgsOfParent) + 1\n",
    "    \n",
    "\n",
    "   \n",
    "    "
   ]
  },
  {
   "cell_type": "code",
   "execution_count": 23,
   "metadata": {},
   "outputs": [],
   "source": [
    "\n",
    "def getImageOfState(npArr):\n",
    "    i = 0\n",
    "    image =0\n",
    "    state = npArr.flatten()\n",
    "    while(i < len(state)):\n",
    "        image += (i+1)*(i+1)*int(state[i])\n",
    "        i+=1\n",
    "    return image"
   ]
  },
  {
   "cell_type": "code",
   "execution_count": 24,
   "metadata": {},
   "outputs": [],
   "source": [
    "\n",
    "def testGoalState(npArr):\n",
    "    myX = 0\n",
    "    arr = npArr.flatten()\n",
    "    for i in range(0,len(arr)-1):\n",
    "        if(int(arr[len(arr)-1]) == 0 and i == int(len(arr)-2)):\n",
    "    \n",
    "            break        \n",
    "        elif(int(arr[i]) > int(arr[i+1])):\n",
    "            return 0\n",
    "    return 1\n",
    "    \n",
    "            "
   ]
  },
  {
   "cell_type": "code",
   "execution_count": 25,
   "metadata": {},
   "outputs": [],
   "source": [
    "def swapForBFS(arr, i, j, x, y):\n",
    "    if(x < 0 or x >= len(arr)):\n",
    "        return arr, 0\n",
    "    if(y < 0 or y >= len(arr[x])):\n",
    "        return arr, 0\n",
    "    \n",
    "    arr[i][j] ,arr[x][y] = arr[x][y], arr[i][j]\n",
    "    return arr, 1"
   ]
  },
  {
   "cell_type": "code",
   "execution_count": 26,
   "metadata": {},
   "outputs": [],
   "source": [
    "def getCoordinatesOfEmptyTile(state):\n",
    "    s = []\n",
    "    for i in range(0,len(state)):\n",
    "        for j in range(0,len(state)):\n",
    "            if(int(state[i][j]) == 0):\n",
    "                s = [i,j]\n",
    "                return s\n",
    "    return 0"
   ]
  },
  {
   "cell_type": "code",
   "execution_count": 27,
   "metadata": {},
   "outputs": [],
   "source": [
    "def isLegalState(node0, i,j):\n",
    "    flag = 0\n",
    "    state = node0.state.copy()\n",
    "    if (i < 0 or i >= len(state)):\n",
    "        return 0\n",
    "    if (j < 0 or j >= len(state[i])):\n",
    "        return 0\n",
    "    \n",
    "    coord = getCoordinatesOfEmptyTile(state)\n",
    "    tempState, flag = swapForBFS(state, coord[0],coord[1], i,j)\n",
    "    if(flag):\n",
    "        if(getImageOfState(tempState) not in node0.imgsOfParent):\n",
    "            return 1\n",
    "    return 0"
   ]
  },
  {
   "cell_type": "code",
   "execution_count": 28,
   "metadata": {},
   "outputs": [],
   "source": [
    "def getChildNodes_UCS(node0, count):\n",
    "    tempState, flag = 0,0\n",
    "    state = node0.state\n",
    "    coord = getCoordinatesOfEmptyTile(state)\n",
    "    i = coord[0]\n",
    "    j = coord[1]\n",
    "    newNodes = []\n",
    "    \n",
    "    if(isLegalState(node0, i,j+1)):\n",
    "        count += 1\n",
    "        tempState, flag = swapForBFS(state.copy(), coord[0],coord[1], i,j+1)\n",
    "        tNode = node(tempState, node0.state, 0,0, count, node0.imgsOfParent.copy(), 'RIGHT', node0.path.copy())\n",
    "        newNodes.append(tNode)\n",
    "        \n",
    "    if(isLegalState(node0, i,j-1)):\n",
    "        count += 1\n",
    "        tempState, flag = swapForBFS(state.copy(),  coord[0],coord[1], i,j-1)\n",
    "\n",
    "        tNode = node(tempState, node0.state, 0,0, count, node0.imgsOfParent.copy(), 'LEFT', node0.path.copy())\n",
    "        newNodes.append(tNode)\n",
    "        \n",
    "    if(isLegalState(node0, i+1,j)):\n",
    "        count += 1\n",
    "        tempState, flag = swapForBFS(state.copy(),  coord[0],coord[1], i+1,j)\n",
    "\n",
    "        tNode = node(tempState, node0.state, 0,0, count, node0.imgsOfParent.copy(), 'UP', node0.path.copy())\n",
    "        newNodes.append(tNode)\n",
    "        \n",
    "    if(isLegalState(node0, i-1,j)):\n",
    "        count += 1\n",
    "        tempState, flag = swapForBFS(state.copy(),  coord[0],coord[1], i-1,j)\n",
    "\n",
    "        tNode = node(tempState, node0.state, 0,0, count, node0.imgsOfParent.copy(), 'DOWN', node0.path.copy())\n",
    "        newNodes.append(tNode)\n",
    "        \n",
    "    return newNodes, count\n",
    "        \n",
    "    "
   ]
  },
  {
   "cell_type": "code",
   "execution_count": 29,
   "metadata": {},
   "outputs": [],
   "source": [
    "def Agent_BFS_UCS(input00):\n",
    "    count = 0\n",
    "    h = []\n",
    "    childs = []\n",
    "    n0 = node(input00, np.zeros(0), 0, 0, count, [], 'Start', [])\n",
    "    heappush(h, (0, n0.count, n0))\n",
    "\n",
    "    while(len(h) != 0 and count <= 1000000):\n",
    "        deque = heappop(h)\n",
    "        selectedNode = deque[2]\n",
    "\n",
    "        if(testGoalState(selectedNode.state)):\n",
    "            print(selectedNode.state, \" \\nballay ballay ballay\")\n",
    "            print(\" \\nPath\", selectedNode.path)        \n",
    "            return 1\n",
    "\n",
    "        childs, count = getChildNodes_UCS(selectedNode, count)\n",
    "    \n",
    "        while(len(childs) != 0):\n",
    "            tempNode = childs.pop()\n",
    "            heappush(h, (tempNode.fn, tempNode.count, tempNode))\n",
    "    return 0\n"
   ]
  },
  {
   "cell_type": "code",
   "execution_count": 30,
   "metadata": {},
   "outputs": [
    {
     "output_type": "execute_result",
     "data": {
      "text/plain": [
       "0"
      ]
     },
     "metadata": {},
     "execution_count": 30
    }
   ],
   "source": [
    "\n",
    "Agent_BFS_UCS(input05.copy())\n"
   ]
  },
  {
   "cell_type": "code",
   "execution_count": null,
   "metadata": {},
   "outputs": [],
   "source": []
  }
 ]
}